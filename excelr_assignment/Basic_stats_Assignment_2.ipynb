{
  "nbformat": 4,
  "nbformat_minor": 0,
  "metadata": {
    "colab": {
      "provenance": []
    },
    "kernelspec": {
      "name": "python3",
      "display_name": "Python 3"
    },
    "language_info": {
      "name": "python"
    }
  },
  "cells": [
    {
      "cell_type": "code",
      "execution_count": null,
      "metadata": {
        "id": "V2WTG7G5Z56v"
      },
      "outputs": [],
      "source": [
        "from scipy import stats\n",
        "import pandas as pd\n",
        "import numpy as np\n"
      ]
    },
    {
      "cell_type": "code",
      "source": [
        "data=pd.Series([1.13,1.55,1.43,0.92,1.25,1.36,1.32,0.85,1.07,1.48,1.20,1.33,1.18,1.22,1.29])\n",
        "print(data)"
      ],
      "metadata": {
        "colab": {
          "base_uri": "https://localhost:8080/"
        },
        "id": "VV6BKE0Bq81O",
        "outputId": "58c76e14-fc46-47ea-ee88-bfa7419c1195"
      },
      "execution_count": null,
      "outputs": [
        {
          "output_type": "stream",
          "name": "stdout",
          "text": [
            "0     1.13\n",
            "1     1.55\n",
            "2     1.43\n",
            "3     0.92\n",
            "4     1.25\n",
            "5     1.36\n",
            "6     1.32\n",
            "7     0.85\n",
            "8     1.07\n",
            "9     1.48\n",
            "10    1.20\n",
            "11    1.33\n",
            "12    1.18\n",
            "13    1.22\n",
            "14    1.29\n",
            "dtype: float64\n"
          ]
        }
      ]
    },
    {
      "cell_type": "code",
      "source": [
        "data.std()"
      ],
      "metadata": {
        "colab": {
          "base_uri": "https://localhost:8080/"
        },
        "id": "J4t8W3vjreF4",
        "outputId": "757ba8b3-042e-4a2e-87b0-3990da6385c4"
      },
      "execution_count": null,
      "outputs": [
        {
          "output_type": "execute_result",
          "data": {
            "text/plain": [
              "0.19316412956959936"
            ]
          },
          "metadata": {},
          "execution_count": 10
        }
      ]
    },
    {
      "cell_type": "code",
      "source": [
        "data.mean()"
      ],
      "metadata": {
        "colab": {
          "base_uri": "https://localhost:8080/"
        },
        "id": "OJmNZ2MLr9LE",
        "outputId": "2d574300-71a0-40c7-cb6a-bd7e37498a0b"
      },
      "execution_count": null,
      "outputs": [
        {
          "output_type": "execute_result",
          "data": {
            "text/plain": [
              "1.2386666666666666"
            ]
          },
          "metadata": {},
          "execution_count": 11
        }
      ]
    },
    {
      "cell_type": "code",
      "source": [
        "stats.t.ppf(0.995,14)"
      ],
      "metadata": {
        "colab": {
          "base_uri": "https://localhost:8080/"
        },
        "id": "x6wYKoi4s59T",
        "outputId": "4b2e3cdf-1c82-4b49-8eff-dc8edd610ef2"
      },
      "execution_count": null,
      "outputs": [
        {
          "output_type": "execute_result",
          "data": {
            "text/plain": [
              "2.976842734370834"
            ]
          },
          "metadata": {},
          "execution_count": 12
        }
      ]
    },
    {
      "cell_type": "code",
      "source": [
        "S=data.std()/np.sqrt(15)\n",
        "S"
      ],
      "metadata": {
        "colab": {
          "base_uri": "https://localhost:8080/"
        },
        "id": "VZJAYyoUtBwB",
        "outputId": "7bdcd8fa-fd57-48aa-a54a-5f050a1512b5"
      },
      "execution_count": null,
      "outputs": [
        {
          "output_type": "execute_result",
          "data": {
            "text/plain": [
              "0.04987476379384733"
            ]
          },
          "metadata": {},
          "execution_count": 13
        }
      ]
    },
    {
      "cell_type": "markdown",
      "source": [
        "Building 99% confidence interval using sample\n",
        " standard deviation"
      ],
      "metadata": {
        "id": "N0jS-aAGtglh"
      }
    },
    {
      "cell_type": "code",
      "source": [
        "stats.t.interval(0.99,14,1.24,0.04)"
      ],
      "metadata": {
        "colab": {
          "base_uri": "https://localhost:8080/"
        },
        "id": "ZFy_3jB6tmHv",
        "outputId": "f71d8a30-208a-43c5-a492-4a6fe2067d1f"
      },
      "execution_count": null,
      "outputs": [
        {
          "output_type": "execute_result",
          "data": {
            "text/plain": [
              "(1.1209262906251667, 1.3590737093748333)"
            ]
          },
          "metadata": {},
          "execution_count": 16
        }
      ]
    },
    {
      "cell_type": "markdown",
      "source": [
        "Building 99% confidence interval using known population  standard deviation"
      ],
      "metadata": {
        "id": "WGbM7tbHv_pQ"
      }
    },
    {
      "cell_type": "code",
      "source": [
        "sigma=0.2/np.sqrt(15)\n",
        "sigma"
      ],
      "metadata": {
        "colab": {
          "base_uri": "https://localhost:8080/"
        },
        "id": "NIXkJplVwuDN",
        "outputId": "6487aec9-0026-469f-8636-3a65a6d2a55c"
      },
      "execution_count": null,
      "outputs": [
        {
          "output_type": "execute_result",
          "data": {
            "text/plain": [
              "0.051639777949432225"
            ]
          },
          "metadata": {},
          "execution_count": 17
        }
      ]
    },
    {
      "cell_type": "code",
      "source": [
        "stats.norm.interval(0.99,1.24,0.05)"
      ],
      "metadata": {
        "colab": {
          "base_uri": "https://localhost:8080/"
        },
        "id": "_VGmoJAGw5dz",
        "outputId": "5ffe9249-b718-4a61-f4ca-408671c59ccb"
      },
      "execution_count": null,
      "outputs": [
        {
          "output_type": "execute_result",
          "data": {
            "text/plain": [
              "(1.1112085348225549, 1.368791465177445)"
            ]
          },
          "metadata": {},
          "execution_count": 18
        }
      ]
    },
    {
      "cell_type": "code",
      "source": [
        "stats.norm.ppf(0.995)"
      ],
      "metadata": {
        "colab": {
          "base_uri": "https://localhost:8080/"
        },
        "id": "CeIaYjnvxF9v",
        "outputId": "840c1621-43a1-47c7-e8fa-26f060dd2c31"
      },
      "execution_count": null,
      "outputs": [
        {
          "output_type": "execute_result",
          "data": {
            "text/plain": [
              "2.5758293035489004"
            ]
          },
          "metadata": {},
          "execution_count": 19
        }
      ]
    },
    {
      "cell_type": "code",
      "source": [
        "##stats.norm.interval(0.99,1.24,0.2)"
      ],
      "metadata": {
        "id": "7as_IXf2xNkd"
      },
      "execution_count": null,
      "outputs": []
    },
    {
      "cell_type": "code",
      "source": [],
      "metadata": {
        "id": "ZXWdSne1xe-R"
      },
      "execution_count": null,
      "outputs": []
    },
    {
      "cell_type": "markdown",
      "source": [
        "**Explanation**"
      ],
      "metadata": {
        "id": "ESKpPcQdx_pu"
      }
    },
    {
      "cell_type": "markdown",
      "source": [
        " Part a :sample size is small (15) and the population standard deviation is unknown, we use the t-distribution to account for increased variability. The 99% confidence interval was calculated using the critical t-value with 14 degrees of freedom\n",
        "\n",
        " part b :the population standard deviation (\n",
        "𝜎=# 0.2\n",
        "σ=0.2) is known, we use the z-distribution, as it provides a more precise interval for larger samples or known variability. This interval is slightly narrower than the one using the sample standard deviation due to less uncertainty.\n",
        "\n",
        "---\n",
        "\n"
      ],
      "metadata": {
        "id": "yTI0VRLDzZ3G"
      }
    },
    {
      "cell_type": "code",
      "source": [],
      "metadata": {
        "id": "acPpVgo1zdIv"
      },
      "execution_count": null,
      "outputs": []
    }
  ]
}