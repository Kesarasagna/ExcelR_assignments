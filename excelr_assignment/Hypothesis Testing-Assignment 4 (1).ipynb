{
  "cells": [
    {
      "cell_type": "markdown",
      "source": [
        "## HYPOTHESIS TESTING"
      ],
      "metadata": {
        "id": "UcX4okpB9vSv"
      }
    },
    {
      "cell_type": "markdown",
      "source": [
        "Null Hypothesis (H₀): There is no association between the type of smart home device (Smart Thermostats vs. Smart Lights) and the customer's satisfaction level.\n",
        "Mathematically:H0: Mean Weekly Operating Cost=1000+5X\n",
        "Alternative Hypothesis (H₁): There is a significant association between the type of smart home device and the customer's satisfaction level.\n",
        "Mathematically:H1: Mean Weekly Operating Cost>1000+5X\n"
      ],
      "metadata": {
        "id": "HBCLv8L690ip"
      }
    },
    {
      "cell_type": "code",
      "source": [
        "import numpy as np\n",
        "from scipy import stats\n",
        "import pandas as pd"
      ],
      "metadata": {
        "id": "QPGAgb7D8swX"
      },
      "execution_count": 1,
      "outputs": []
    },
    {
      "cell_type": "code",
      "source": [
        "Z=(3050-4000)/(125/np.sqrt(25))"
      ],
      "metadata": {
        "id": "1mUhpJG7-8cs"
      },
      "execution_count": 2,
      "outputs": []
    },
    {
      "cell_type": "code",
      "source": [
        "Z"
      ],
      "metadata": {
        "id": "DuS7KD9N_A-l",
        "outputId": "9103f1d6-1d7c-49f4-8c36-537a09e4e41a",
        "colab": {
          "base_uri": "https://localhost:8080/"
        }
      },
      "execution_count": 3,
      "outputs": [
        {
          "output_type": "execute_result",
          "data": {
            "text/plain": [
              "-38.0"
            ]
          },
          "metadata": {},
          "execution_count": 3
        }
      ]
    },
    {
      "cell_type": "markdown",
      "source": [
        "# Critical Value=0.05"
      ],
      "metadata": {
        "id": "PMNY58Nm_KGE"
      }
    },
    {
      "cell_type": "code",
      "source": [
        "stats.norm.ppf(0.775)"
      ],
      "metadata": {
        "id": "cWwWADYp_Nx-",
        "outputId": "a7a8b50b-c9d8-4d9d-b1df-0aeaa5635167",
        "colab": {
          "base_uri": "https://localhost:8080/"
        }
      },
      "execution_count": 5,
      "outputs": [
        {
          "output_type": "execute_result",
          "data": {
            "text/plain": [
              "0.7554150263604693"
            ]
          },
          "metadata": {},
          "execution_count": 5
        }
      ]
    },
    {
      "cell_type": "markdown",
      "source": [
        "**Decision**"
      ],
      "metadata": {
        "id": "UjyZH0WDBAfQ"
      }
    },
    {
      "cell_type": "markdown",
      "source": [
        "*Decision Rule:* If the chi-square statistic is greater than the critical value, reject the null hypothesis."
      ],
      "metadata": {
        "id": "-Fn7vje2BHht"
      }
    },
    {
      "cell_type": "markdown",
      "source": [
        "**Conclusion**"
      ],
      "metadata": {
        "id": "8SSOPmPvCnkh"
      }
    },
    {
      "cell_type": "markdown",
      "source": [
        "This means there is fair evidence to show that the mean weekly cost is higher than the one predicted by the cost model. Observed costs were quite high, compared to those predicted by the model, thus substantiating the claim that maybe the cost model was no longer on target."
      ],
      "metadata": {
        "id": "Lqs2mq5kIHoc"
      }
    },
    {
      "cell_type": "markdown",
      "source": [
        "**CHI**-**SQUARE** **TEST**"
      ],
      "metadata": {
        "id": "jURYyriaEJMe"
      }
    },
    {
      "cell_type": "markdown",
      "source": [
        "**Null Hypothesis (H₀):** There is no significant association between the type of smart home device purchased and customer satisfaction level.               \n",
        "**Alternative Hypothesis (H₁)**: There is a significant association between the type of smart home device purchased and customer satisfaction level"
      ],
      "metadata": {
        "id": "5MPgbfCfGXAN"
      }
    },
    {
      "cell_type": "code",
      "source": [
        "data={\n",
        "    \"Satisfaction\": [\"Very Satisfied\", \"Satisfied\", \"Neutral\", \"Unsatisfied\", \"Very Unsatisfied\"],\n",
        "    \"Smart Thermostat\": [50, 80, 60, 30, 20],\n",
        "    \"Smart Light\": [70, 100, 90, 50, 50],\n",
        "}\n",
        "Table=pd.DataFrame(data)\n",
        "print(Table)"
      ],
      "metadata": {
        "id": "bUJ55PVBGYxa",
        "outputId": "0106296a-2c12-47e3-d88e-65ba1a8a4b2f",
        "colab": {
          "base_uri": "https://localhost:8080/"
        }
      },
      "execution_count": 6,
      "outputs": [
        {
          "output_type": "stream",
          "name": "stdout",
          "text": [
            "       Satisfaction  Smart Thermostat  Smart Light\n",
            "0    Very Satisfied                50           70\n",
            "1         Satisfied                80          100\n",
            "2           Neutral                60           90\n",
            "3       Unsatisfied                30           50\n",
            "4  Very Unsatisfied                20           50\n"
          ]
        }
      ]
    },
    {
      "cell_type": "code",
      "source": [
        "Table=Table.drop('Satisfaction',axis=1)"
      ],
      "metadata": {
        "id": "AOX8MW0KIVFg"
      },
      "execution_count": 7,
      "outputs": []
    },
    {
      "cell_type": "code",
      "source": [
        "print(Table)"
      ],
      "metadata": {
        "id": "rIP3qqHDIhy1",
        "outputId": "61c46430-6734-4ba7-f21d-4b2ff051afd2",
        "colab": {
          "base_uri": "https://localhost:8080/"
        }
      },
      "execution_count": 9,
      "outputs": [
        {
          "output_type": "stream",
          "name": "stdout",
          "text": [
            "   Smart Thermostat  Smart Light\n",
            "0                50           70\n",
            "1                80          100\n",
            "2                60           90\n",
            "3                30           50\n",
            "4                20           50\n"
          ]
        }
      ]
    },
    {
      "cell_type": "markdown",
      "source": [
        "Critical Value=0.05"
      ],
      "metadata": {
        "id": "6RRpsRY0ItR8"
      }
    },
    {
      "cell_type": "code",
      "source": [
        "from scipy.stats import chi2_contingency\n",
        "chi, p, dof, expected = chi2_contingency(Table)\n",
        "print(p)"
      ],
      "metadata": {
        "id": "b4JbxMujIll_",
        "outputId": "e5aa4ada-1f08-4cf2-bff1-e10722dffa2e",
        "colab": {
          "base_uri": "https://localhost:8080/"
        }
      },
      "execution_count": 10,
      "outputs": [
        {
          "output_type": "stream",
          "name": "stdout",
          "text": [
            "0.22784371130697179\n"
          ]
        }
      ]
    },
    {
      "cell_type": "markdown",
      "source": [
        "### Decision"
      ],
      "metadata": {
        "id": "mdcfIz49I2PT"
      }
    },
    {
      "cell_type": "markdown",
      "source": [
        "We accept the null hypothesis and reject alternative hypothesis."
      ],
      "metadata": {
        "id": "N8BA4q2eJCb1"
      }
    },
    {
      "cell_type": "markdown",
      "source": [
        "### Conclusion"
      ],
      "metadata": {
        "id": "cQyJecUYJOlS"
      }
    },
    {
      "cell_type": "markdown",
      "source": [
        "There is no significant association between the type of smart home device purchased (Smart Thermostats vs. Smart Lights) and the customer satisfaction level at the 0.05 significance level. ​"
      ],
      "metadata": {
        "id": "j0_Q3Y1lJrnE"
      }
    },
    {
      "cell_type": "code",
      "source": [],
      "metadata": {
        "id": "iZCgp42EIzP9"
      },
      "execution_count": null,
      "outputs": []
    }
  ],
  "metadata": {
    "colab": {
      "name": "Welcome To Colab",
      "provenance": []
    },
    "kernelspec": {
      "display_name": "Python 3",
      "name": "python3"
    }
  },
  "nbformat": 4,
  "nbformat_minor": 0
}