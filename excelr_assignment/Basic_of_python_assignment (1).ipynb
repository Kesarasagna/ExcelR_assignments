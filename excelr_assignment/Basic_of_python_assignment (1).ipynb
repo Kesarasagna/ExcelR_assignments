{
  "nbformat": 4,
  "nbformat_minor": 0,
  "metadata": {
    "colab": {
      "provenance": []
    },
    "kernelspec": {
      "name": "python3",
      "display_name": "Python 3"
    },
    "language_info": {
      "name": "python"
    }
  },
  "cells": [
    {
      "cell_type": "markdown",
      "metadata": {
        "id": "b11e4aba"
      },
      "source": [
        "##     Prime Numbers"
      ]
    },
    {
      "cell_type": "code",
      "source": [
        "def Prime_Number(num):\n",
        "    if num <= 1:\n",
        "        return \"It is not a prime number\"\n",
        "    for i in range(2, int(num**0.5) + 1):\n",
        "        if num % i == 0:\n",
        "            return \"It is not a prime number\"\n",
        "    return \"It is a prime number\"\n",
        "num = int(input(\"Enter a number: \"))\n",
        "print(Prime_Number(num))"
      ],
      "metadata": {
        "colab": {
          "base_uri": "https://localhost:8080/"
        },
        "id": "-HLxbPhKIzO5",
        "outputId": "9ce3ff18-0e05-464a-ae86-a9ec8b73a2f5"
      },
      "execution_count": 18,
      "outputs": [
        {
          "output_type": "stream",
          "name": "stdout",
          "text": [
            "Enter a number: 2\n",
            "It is a prime number\n"
          ]
        }
      ]
    },
    {
      "cell_type": "markdown",
      "source": [
        "Product of Random Numbers"
      ],
      "metadata": {
        "id": "cGGNElwCJ9jX"
      }
    },
    {
      "cell_type": "code",
      "source": [
        "import pandas as pd\n",
        "import random\n",
        "num1=random.randint(1,100)\n",
        "num2=random.randint(1,100)\n",
        "print(num1)\n",
        "print(num2)\n",
        "num=num1*num2\n",
        "product=int(input(\"Enter the Product:\"))\n",
        "if(num==product):\n",
        "    print(\"The product is correct\")\n",
        "else:\n",
        "    print(\"The product is not correct\")"
      ],
      "metadata": {
        "colab": {
          "base_uri": "https://localhost:8080/"
        },
        "id": "SFCKdMCTJoQx",
        "outputId": "97d3ff9a-7953-4651-89b8-60b95c2d9991"
      },
      "execution_count": 17,
      "outputs": [
        {
          "output_type": "stream",
          "name": "stdout",
          "text": [
            "47\n",
            "90\n",
            "Enter the Product:3\n",
            "The product is not correct\n"
          ]
        }
      ]
    },
    {
      "cell_type": "markdown",
      "source": [
        "Squares of Even/Odd Numbers"
      ],
      "metadata": {
        "id": "AeX3MlEHLRKo"
      }
    },
    {
      "cell_type": "code",
      "source": [
        "choice=input(\"Please enter even or odd:\")\n",
        "if(choice=='even'):\n",
        "    for i in range(100,201):\n",
        "        if(i%2 == 0):\n",
        "            print(i*i,end=\" \")\n",
        "else:\n",
        "    for i in range(100,201):\n",
        "        if(i%2 != 0):\n",
        "            print(i*i,end=\" \")"
      ],
      "metadata": {
        "colab": {
          "base_uri": "https://localhost:8080/"
        },
        "id": "4jDQFi_aLmoA",
        "outputId": "23032550-e4f2-4bc4-e8ba-20d999f76de7"
      },
      "execution_count": 16,
      "outputs": [
        {
          "output_type": "stream",
          "name": "stdout",
          "text": [
            "Please enter even or odd:3\n",
            "10201 10609 11025 11449 11881 12321 12769 13225 13689 14161 14641 15129 15625 16129 16641 17161 17689 18225 18769 19321 19881 20449 21025 21609 22201 22801 23409 24025 24649 25281 25921 26569 27225 27889 28561 29241 29929 30625 31329 32041 32761 33489 34225 34969 35721 36481 37249 38025 38809 39601 "
          ]
        }
      ]
    },
    {
      "cell_type": "markdown",
      "source": [
        "Word counter"
      ],
      "metadata": {
        "id": "_kcVIoxrMRnw"
      }
    },
    {
      "cell_type": "code",
      "source": [
        "def word_count(sentence):\n",
        "    count=dict()\n",
        "    words=sentence.split()\n",
        "    for i in words:\n",
        "        if i in count:\n",
        "            count[i]+=1\n",
        "        else:\n",
        "            count[i]=1\n",
        "    return count\n",
        "\n",
        "sentence=input(\"Enter a string:\")\n",
        "print(word_count(sentence))"
      ],
      "metadata": {
        "colab": {
          "base_uri": "https://localhost:8080/"
        },
        "id": "YJxwvQzCMHNT",
        "outputId": "d029f1cd-6a9c-4b71-ecd2-e718ffeb5b2f"
      },
      "execution_count": 12,
      "outputs": [
        {
          "output_type": "stream",
          "name": "stdout",
          "text": [
            "Enter a string:hi this is rasu\n",
            "{'hi': 1, 'this': 1, 'is': 1, 'rasu': 1}\n"
          ]
        }
      ]
    },
    {
      "cell_type": "markdown",
      "source": [
        "Check for Palindrome"
      ],
      "metadata": {
        "id": "4pZMPggLMpNL"
      }
    },
    {
      "cell_type": "code",
      "source": [
        "def palindrome(str):\n",
        "    if(str==str[::-1]):\n",
        "        return 'True'\n",
        "    else:\n",
        "        return 'False'\n",
        "\n",
        "str=input(\"Enter a string:\")\n",
        "print(palindrome(str))"
      ],
      "metadata": {
        "colab": {
          "base_uri": "https://localhost:8080/"
        },
        "id": "OIli7UJXMtcR",
        "outputId": "01642ad5-67c4-4538-d9b4-ae530d53c8d9"
      },
      "execution_count": 15,
      "outputs": [
        {
          "output_type": "stream",
          "name": "stdout",
          "text": [
            "Enter a string:121\n",
            "True\n"
          ]
        }
      ]
    },
    {
      "cell_type": "code",
      "source": [],
      "metadata": {
        "id": "zEGXHvT3M2a0"
      },
      "execution_count": null,
      "outputs": []
    }
  ]
}